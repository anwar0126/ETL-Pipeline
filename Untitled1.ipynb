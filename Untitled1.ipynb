{
 "cells": [
  {
   "cell_type": "code",
   "execution_count": 3,
   "id": "c6939449-8ff2-496d-b9dd-81ff208edba7",
   "metadata": {},
   "outputs": [
    {
     "ename": "IndentationError",
     "evalue": "expected an indented block after 'with' statement on line 2 (1440512571.py, line 3)",
     "output_type": "error",
     "traceback": [
      "\u001b[1;36m  Cell \u001b[1;32mIn[3], line 3\u001b[1;36m\u001b[0m\n\u001b[1;33m    reader=csv.DictReader(file)\u001b[0m\n\u001b[1;37m    ^\u001b[0m\n\u001b[1;31mIndentationError\u001b[0m\u001b[1;31m:\u001b[0m expected an indented block after 'with' statement on line 2\n"
     ]
    }
   ],
   "source": [
    "import csv\n",
    "with open (\"Customer.csv\",\"r\") as file:\n",
    "reader=csv.DictReader(file)\n",
    "data=(list(reader))\n",
    "for employee in data:\n",
    "print(customer[\"name\"])\n",
    "\n"
   ]
  },
  {
   "cell_type": "code",
   "execution_count": 5,
   "id": "964097b0-934c-40a1-9700-e868327d2bfd",
   "metadata": {},
   "outputs": [
    {
     "ename": "SyntaxError",
     "evalue": "unterminated string literal (detected at line 3) (1652468322.py, line 3)",
     "output_type": "error",
     "traceback": [
      "\u001b[1;36m  Cell \u001b[1;32mIn[5], line 3\u001b[1;36m\u001b[0m\n\u001b[1;33m    with open (bin/input_data.csv\",\"r\") as file:\u001b[0m\n\u001b[1;37m                                    ^\u001b[0m\n\u001b[1;31mSyntaxError\u001b[0m\u001b[1;31m:\u001b[0m unterminated string literal (detected at line 3)\n"
     ]
    }
   ],
   "source": [
    "import csv\n",
    "\n",
    "with open (bin/input_data.csv\",\"r\") as file:\n",
    "\n",
    "    reader=csv.DictReader(file)\n",
    "\n",
    "    data=(list(reader)) \n",
    "\n",
    "    print(\"Total Salary of Employee's are : \")\n",
    "\n",
    "    for employee in data:\n",
    "\n",
    "        print(employee[\"Salary\"])\n"
   ]
  },
  {
   "cell_type": "code",
   "execution_count": 9,
   "id": "9e53fc5f-d4de-4968-80da-7a2d87ace911",
   "metadata": {},
   "outputs": [
    {
     "ename": "SyntaxError",
     "evalue": "unterminated string literal (detected at line 3) (1675923027.py, line 3)",
     "output_type": "error",
     "traceback": [
      "\u001b[1;36m  Cell \u001b[1;32mIn[9], line 3\u001b[1;36m\u001b[0m\n\u001b[1;33m    with open (/bin/input_data.csv\",\"r\") as file:\u001b[0m\n\u001b[1;37m                                     ^\u001b[0m\n\u001b[1;31mSyntaxError\u001b[0m\u001b[1;31m:\u001b[0m unterminated string literal (detected at line 3)\n"
     ]
    }
   ],
   "source": [
    "import csv\n",
    "\n",
    "with open (/bin/input_data.csv\",\"r\") as file:\n",
    "\n",
    "    reader=csv.DictReader(file)\n",
    "print(customer)"
   ]
  },
  {
   "cell_type": "code",
   "execution_count": null,
   "id": "5a69c3db-9de2-4605-8e62-26d178eba0e3",
   "metadata": {},
   "outputs": [],
   "source": [
    "import os\n",
    "\n",
    "# Search for file in the current directory and subdirectories\n",
    "for root, dirs, files in os.walk(\".\"):\n",
    "    if \"input_data.csv\" in files:\n",
    "        print(\"File found at:\", os.path.join(root, \"input_data.csv\"))"
   ]
  },
  {
   "cell_type": "code",
   "execution_count": null,
   "id": "5c54514f-c2c6-4264-b92f-3a006692742d",
   "metadata": {},
   "outputs": [],
   "source": [
    "import csv\n",
    "\n",
    "with open (/bin/input_data.csv\",\"r\") as file:\n",
    "\n",
    "    reader=csv.DictReader(file)\n",
    "print(customer)"
   ]
  },
  {
   "cell_type": "code",
   "execution_count": null,
   "id": "95387094-f2a2-44c3-afe6-d023a7c486c5",
   "metadata": {},
   "outputs": [],
   "source": []
  },
  {
   "cell_type": "code",
   "execution_count": null,
   "id": "f18f55a8-7435-49b8-8deb-86cd48daf646",
   "metadata": {},
   "outputs": [],
   "source": []
  }
 ],
 "metadata": {
  "kernelspec": {
   "display_name": "Python 3 (ipykernel)",
   "language": "python",
   "name": "python3"
  },
  "language_info": {
   "codemirror_mode": {
    "name": "ipython",
    "version": 3
   },
   "file_extension": ".py",
   "mimetype": "text/x-python",
   "name": "python",
   "nbconvert_exporter": "python",
   "pygments_lexer": "ipython3",
   "version": "3.12.4"
  }
 },
 "nbformat": 4,
 "nbformat_minor": 5
}
